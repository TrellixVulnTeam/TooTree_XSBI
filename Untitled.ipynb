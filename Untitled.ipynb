{
 "cells": [
  {
   "cell_type": "code",
   "execution_count": 3,
   "id": "endangered-diana",
   "metadata": {},
   "outputs": [],
   "source": [
    "from TopFive import TopFive"
   ]
  },
  {
   "cell_type": "code",
   "execution_count": 3,
   "id": "bizarre-specific",
   "metadata": {},
   "outputs": [
    {
     "name": "stderr",
     "output_type": "stream",
     "text": [
      "/Users/samdavidson/Documents/Projects/TooTree/venv/lib/python3.9/site-packages/IPython/core/interactiveshell.py:3347: DtypeWarning: Columns (3) have mixed types.Specify dtype option on import or set low_memory=False.\n",
      "  if (await self.run_code(code, result,  async_=asy)):\n"
     ]
    },
    {
     "name": "stdout",
     "output_type": "stream",
     "text": [
      "Starting Request:  Tilia cordata\n",
      "Collecting Request:  Tilia cordata\n",
      "['Littleleaf linden']\n",
      "Starting Request:  Platanus x hispanica\n",
      "Collecting Request:  Platanus x hispanica\n",
      "['London planetree']\n",
      "Starting Request:  Acer platanoides\n",
      "Collecting Request:  Acer platanoides\n",
      "['Norway maple']\n",
      "Starting Request:  Prunus avium\n",
      "Collecting Request:  Prunus avium\n",
      "['Sweet cherry']\n",
      "Starting Request:  Fraxinus excelsior\n",
      "Collecting Request:  Fraxinus excelsior\n",
      "['European ash']\n",
      "[<TrefleQuery.PlantSpecies object at 0x116bf1040>, <TrefleQuery.PlantSpecies object at 0x116bf1160>, <TrefleQuery.PlantSpecies object at 0x116bf1eb0>, <TrefleQuery.PlantSpecies object at 0x116bf12e0>, <TrefleQuery.PlantSpecies object at 0x116bf1dc0>]\n",
      "Time Taken: 0:00:01.249061\n"
     ]
    },
    {
     "data": {
      "text/plain": [
       "[<TrefleQuery.PlantSpecies at 0x116bf1040>,\n",
       " <TrefleQuery.PlantSpecies at 0x116bf1160>,\n",
       " <TrefleQuery.PlantSpecies at 0x116bf1eb0>,\n",
       " <TrefleQuery.PlantSpecies at 0x116bf12e0>,\n",
       " <TrefleQuery.PlantSpecies at 0x116bf1dc0>]"
      ]
     },
     "execution_count": 3,
     "metadata": {},
     "output_type": "execute_result"
    }
   ],
   "source": [
    "await TopFive('Barking')"
   ]
  },
  {
   "cell_type": "code",
   "execution_count": 1,
   "id": "moved-collaboration",
   "metadata": {},
   "outputs": [
    {
     "ename": "NameError",
     "evalue": "name 'element' is not defined",
     "output_type": "error",
     "traceback": [
      "\u001b[0;31m---------------------------------------------------------------------------\u001b[0m",
      "\u001b[0;31mNameError\u001b[0m                                 Traceback (most recent call last)",
      "\u001b[0;32m<ipython-input-1-7c2186f626d0>\u001b[0m in \u001b[0;36m<module>\u001b[0;34m\u001b[0m\n\u001b[0;32m----> 1\u001b[0;31m \u001b[0melement\u001b[0m\u001b[0;34m\u001b[0m\u001b[0;34m\u001b[0m\u001b[0m\n\u001b[0m",
      "\u001b[0;31mNameError\u001b[0m: name 'element' is not defined"
     ]
    }
   ],
   "source": [
    "element"
   ]
  },
  {
   "cell_type": "code",
   "execution_count": null,
   "id": "needed-index",
   "metadata": {},
   "outputs": [],
   "source": []
  }
 ],
 "metadata": {
  "kernelspec": {
   "display_name": "Python 3",
   "language": "python",
   "name": "python3"
  },
  "language_info": {
   "codemirror_mode": {
    "name": "ipython",
    "version": 3
   },
   "file_extension": ".py",
   "mimetype": "text/x-python",
   "name": "python",
   "nbconvert_exporter": "python",
   "pygments_lexer": "ipython3",
   "version": "3.9.1"
  }
 },
 "nbformat": 4,
 "nbformat_minor": 5
}
