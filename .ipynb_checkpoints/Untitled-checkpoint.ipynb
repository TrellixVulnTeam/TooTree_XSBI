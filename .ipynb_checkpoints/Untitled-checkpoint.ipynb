{
 "cells": [
  {
   "cell_type": "code",
   "execution_count": 43,
   "id": "preceding-climb",
   "metadata": {},
   "outputs": [],
   "source": [
    "top_five =  df[df['borough']==borough].groupby('species_name').count().sort_values('gla_id',ascending=False)['gla_id'][0:5]"
   ]
  },
  {
   "cell_type": "code",
   "execution_count": 70,
   "id": "geological-tobacco",
   "metadata": {},
   "outputs": [
    {
     "name": "stdout",
     "output_type": "stream",
     "text": [
      "['Blackthorn']\n",
      "['Sycamore maple']\n",
      "['London planetree']\n",
      "['Norway maple']\n",
      "['European mountain ash']\n"
     ]
    }
   ],
   "source": [
    "lambeth_species = [(item[0],item[1]) for item in zip(top_five.keys(), top_five.values)]\n",
    "lambeth_species = [(species[0].replace(' species',''), species[1]) for species in lambeth_species]\n",
    "lambeth_species = [{'latin': species[0], 'name': TQ.species_search(species[0]).name, 'count': species[1]} for species in lambeth_species]\n"
   ]
  },
  {
   "cell_type": "code",
   "execution_count": 71,
   "id": "accomplished-mechanics",
   "metadata": {},
   "outputs": [
    {
     "data": {
      "text/plain": [
       "[('Prunus', 'Blackthorn', 700),\n",
       " ('Acer pseudoplatanus', 'Sycamore maple', 577),\n",
       " ('Platanus x acerifolia', 'London planetree', 559),\n",
       " ('Acer platanoides', 'Norway maple', 536),\n",
       " ('Sorbus', 'European mountain ash', 449)]"
      ]
     },
     "execution_count": 71,
     "metadata": {},
     "output_type": "execute_result"
    }
   ],
   "source": [
    "lambeth_species"
   ]
  },
  {
   "cell_type": "code",
   "execution_count": 68,
   "id": "north-identification",
   "metadata": {},
   "outputs": [],
   "source": [
    "TQ = TrefleQuery()"
   ]
  },
  {
   "cell_type": "code",
   "execution_count": 59,
   "id": "pointed-might",
   "metadata": {},
   "outputs": [
    {
     "name": "stdout",
     "output_type": "stream",
     "text": [
      "[]\n",
      "['Sycamore maple']\n",
      "['London planetree']\n",
      "['Norway maple']\n",
      "[]\n"
     ]
    }
   ],
   "source": [
    "species_name = [(species[0], TQ.species_search(species[0])) for species in lambeth_species]"
   ]
  },
  {
   "cell_type": "code",
   "execution_count": 60,
   "id": "secret-cleaning",
   "metadata": {},
   "outputs": [
    {
     "data": {
      "text/plain": [
       "[('Prunus species', None),\n",
       " ('Acer pseudoplatanus', <TrefleQuery.PlantSpecies at 0x11f7dda30>),\n",
       " ('Platanus x acerifolia', <TrefleQuery.PlantSpecies at 0x11f7ddc10>),\n",
       " ('Acer platanoides', <TrefleQuery.PlantSpecies at 0x11f7dde80>),\n",
       " ('Sorbus species', None)]"
      ]
     },
     "execution_count": 60,
     "metadata": {},
     "output_type": "execute_result"
    }
   ],
   "source": [
    "species_name"
   ]
  },
  {
   "cell_type": "code",
   "execution_count": 62,
   "id": "standard-brand",
   "metadata": {},
   "outputs": [
    {
     "data": {
      "text/plain": [
       "['Prunus',\n",
       " 'Acer pseudoplatanus',\n",
       " 'Platanus x acerifolia',\n",
       " 'Acer platanoides',\n",
       " 'Sorbus']"
      ]
     },
     "execution_count": 62,
     "metadata": {},
     "output_type": "execute_result"
    }
   ],
   "source": [
    "[species[0].replace(' species','') for species in species_name]"
   ]
  },
  {
   "cell_type": "code",
   "execution_count": null,
   "id": "weekly-hardwood",
   "metadata": {},
   "outputs": [],
   "source": []
  }
 ],
 "metadata": {
  "kernelspec": {
   "display_name": "Python 3",
   "language": "python",
   "name": "python3"
  },
  "language_info": {
   "codemirror_mode": {
    "name": "ipython",
    "version": 3
   },
   "file_extension": ".py",
   "mimetype": "text/x-python",
   "name": "python",
   "nbconvert_exporter": "python",
   "pygments_lexer": "ipython3",
   "version": "3.9.1"
  }
 },
 "nbformat": 4,
 "nbformat_minor": 5
}
